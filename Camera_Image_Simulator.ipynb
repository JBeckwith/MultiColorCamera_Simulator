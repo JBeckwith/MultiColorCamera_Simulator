{
 "cells": [
  {
   "cell_type": "code",
   "execution_count": null,
   "id": "0a2e1e7f",
   "metadata": {},
   "outputs": [],
   "source": [
    "from IPython.display import display, HTML\n",
    "display(HTML(\"<style>.container { width:100% !important; }</style>\")) # this increases width to full screen"
   ]
  },
  {
   "cell_type": "code",
   "execution_count": null,
   "id": "0f217e38",
   "metadata": {},
   "outputs": [],
   "source": [
    "import numpy as np # import numerical python\n",
    "import matplotlib.pyplot as plt # import plotting functions\n",
    "import seaborn as sns # import nicer plotting functions\n",
    "import pandas as pd # import pandas to import data\n",
    "import tifffile as tiff\n",
    "from tifffile import imwrite, imread\n",
    "from copy import deepcopy"
   ]
  },
  {
   "cell_type": "code",
   "execution_count": null,
   "id": "173973a3",
   "metadata": {},
   "outputs": [],
   "source": [
    "from CommonFunctions import Gaussians, Mask_Gen, Image_Gen\n",
    "Gau_gen = Gaussians.GaussFuncs()\n",
    "IG = Image_Gen.ImageGenFuncs()\n",
    "MG = Mask_Gen.MaskFuncs()"
   ]
  },
  {
   "cell_type": "code",
   "execution_count": null,
   "id": "0a5e0544",
   "metadata": {},
   "outputs": [],
   "source": [
    "from Camera_QE import getpixelefficiency\n",
    "gpe = getpixelefficiency.GPE()\n",
    "R, G, B, wavelength = gpe.getpixelefficiency('Camera_QE/CS505CU_QE.csv')"
   ]
  },
  {
   "cell_type": "code",
   "execution_count": null,
   "id": "e1429f11",
   "metadata": {},
   "outputs": [],
   "source": [
    "object_locs = MG.object_loc_generation()"
   ]
  },
  {
   "cell_type": "code",
   "execution_count": null,
   "id": "6414bdb6",
   "metadata": {},
   "outputs": [],
   "source": [
    "# let's make a few (arbitrary) dyes\n",
    "# make some dyes at different colours\n",
    "dye_width = 30 # 30 nm peak width\n",
    "dye_abs_skew = -5 # absorption spectral skew\n",
    "dye_em_skew = 3 # emission spectral skew\n",
    "Abs_450 = Gau_gen.SkewGaussian_wavelength(dye_width, dye_abs_skew, 440, wavelength); Em_450 = Gau_gen.SkewGaussian_wavelength(dye_width, dye_em_skew, 450, wavelength)\n",
    "Abs_500 = Gau_gen.SkewGaussian_wavelength(dye_width, dye_abs_skew, 490, wavelength); Em_500 = Gau_gen.SkewGaussian_wavelength(dye_width, dye_em_skew, 500, wavelength)\n",
    "Abs_647 = Gau_gen.SkewGaussian_wavelength(dye_width, dye_abs_skew, 640, wavelength); Em_647 = Gau_gen.SkewGaussian_wavelength(dye_width, dye_em_skew, 650, wavelength)\n",
    "\n",
    "#visualise them, and our pixel efficiencies\n",
    "fig, ax = plt.subplots(1, 1)\n",
    "ax2 = ax.twinx()\n",
    "ax.plot(wavelength, Abs_450, lw=1, color='darkblue'); plt.plot(wavelength, Em_450, lw=1, color='darkblue', ls='--'); ax2.plot(wavelength, B, color='blue', lw=1, ls=':')\n",
    "ax.plot(wavelength, Abs_500, lw=1, color='darkgreen'); plt.plot(wavelength, Em_500, lw=1, color='darkgreen', ls='--'); ax2.plot(wavelength, G, color='green', lw=1, ls=':')\n",
    "ax.plot(wavelength, Abs_647, lw=1, color='darkred'); plt.plot(wavelength, Em_647, lw=1, color='darkred', ls='--'); ax2.plot(wavelength, R, color='red', lw=1, ls=':')\n",
    "\n",
    "plt.xlim([400, 760])\n",
    "ax2.set_ylim([0, 1.05])\n",
    "ax.set_ylim([0, 1.05])\n",
    "plt.grid(alpha=0.5, lw=0.25)\n",
    "plt.show(block=False) # plot all the absorptions and emissions we have"
   ]
  },
  {
   "cell_type": "code",
   "execution_count": null,
   "id": "a8737ee6",
   "metadata": {},
   "outputs": [],
   "source": [
    "# put dyes into array\n",
    "dyes = np.dstack([[Abs_450, Em_450], [Abs_500, Em_500], [Abs_647, Em_647]])\n",
    "\n",
    "# describe our laser wavelengths\n",
    "lasers = np.array([420, 488, 640])\n",
    "\n",
    "# describe our laser intensities\n",
    "intensity_1 = np.array([1, 1, 1])\n",
    "intensity_2 = np.array([1, 0, 0])\n",
    "laser_int = np.vstack([lasers, intensity_1, intensity_2])"
   ]
  },
  {
   "cell_type": "code",
   "execution_count": null,
   "id": "ff0fb092",
   "metadata": {},
   "outputs": [],
   "source": [
    "# get raw images, demosaiced images, and gain map\n",
    "gain_value = 2 # gain value\n",
    "n_photons = np.array([1e6, 1e6, 1e6]) # number of photons per dye\n",
    "ol = deepcopy(object_locs)\n",
    "\n",
    "raw_images, colour_image_demosaic, gain_map = IG.gen_camera_images(gain_value, wavelength,\n",
    "                            R, G, B, dyes, n_photons, laser_int, ol, object_sigma=30,\n",
    "                            background_photons=5, image_h=1280, image_w=1024, pixel_shift=50)"
   ]
  },
  {
   "cell_type": "code",
   "execution_count": null,
   "id": "880ca02d",
   "metadata": {},
   "outputs": [],
   "source": [
    "# why don't we plot all of these images\n",
    "fig = plt.figure()\n",
    "\n",
    "ax1 = plt.subplot2grid(shape=(3, 2), loc=(0, 0), colspan=1)\n",
    "ax2 = plt.subplot2grid(shape=(3, 2), loc=(1, 0), colspan=1)\n",
    "ax3 = plt.subplot2grid(shape=(3, 2), loc=(2, 0), colspan=1)\n",
    "ax4 = plt.subplot2grid((3, 2), (0, 1), rowspan=3)\n",
    "\n",
    "ax1.imshow(raw_images.values[0, :, :, 0]) # let's plot the red channel\n",
    "ax1.scatter(object_locs[:, 1, 2], object_locs[:, 0, 2], s=5, color='white', alpha=0.5)\n",
    "ax1.set_xticklabels([]); ax1.set_yticklabels([])\n",
    "\n",
    "ax2.imshow(raw_images.values[0, :, :, 1]) # let's plot the green channel\n",
    "ax2.scatter(object_locs[:, 1, 1], object_locs[:, 0, 1], s=5, color='white', alpha=0.5)\n",
    "ax2.set_xticklabels([]); ax2.set_yticklabels([])\n",
    "\n",
    "ax3.imshow(raw_images.values[0, :, :, 2]) # let's plot the blue channel\n",
    "ax3.scatter(object_locs[:, 1, 0], object_locs[:, 0, 0], s=5, color='white', alpha=0.5)\n",
    "ax3.set_xticklabels([]); ax3.set_yticklabels([])\n",
    "\n",
    "toplot = colour_image_demosaic.values[0, :, :, :]/np.max(colour_image_demosaic.values[0, :, :, :])\n",
    "ax4.imshow(toplot, vmin=0, vmax=1)\n",
    "ax4.set_xticklabels([]); ax4.set_yticklabels([])\n",
    "        \n",
    "plt.tight_layout()\n",
    "plt.show(block=False)"
   ]
  },
  {
   "cell_type": "code",
   "execution_count": null,
   "id": "12a7be92",
   "metadata": {},
   "outputs": [],
   "source": [
    "# and now let's plot our two images from 2 separate laser shot combinations side-by-side\n",
    "fig = plt.figure()\n",
    "\n",
    "ax3 = plt.subplot2grid(shape=(3, 2), loc=(0, 0), rowspan=3)\n",
    "ax4 = plt.subplot2grid((3, 2), loc=(0, 1), rowspan=3)\n",
    "\n",
    "toplot = colour_image_demosaic.values[0, :, :, :]/np.max(colour_image_demosaic.values[0, :, :, :])\n",
    "ax3.imshow(toplot, vmin=0, vmax=1) # let's plot the blue channel\n",
    "ax3.set_xticklabels([]); ax3.set_yticklabels([])\n",
    "\n",
    "toplot = colour_image_demosaic.values[1, :, :, :]/np.max(colour_image_demosaic.values[1, :, :, :])\n",
    "ax4.imshow(toplot, vmin=0, vmax=1)\n",
    "ax4.set_xticklabels([]); ax4.set_yticklabels([])\n",
    "        \n",
    "plt.tight_layout()\n",
    "plt.show(block=False)"
   ]
  },
  {
   "cell_type": "code",
   "execution_count": null,
   "id": "62b6f009",
   "metadata": {},
   "outputs": [],
   "source": []
  }
 ],
 "metadata": {
  "kernelspec": {
   "display_name": "Python 3 (ipykernel)",
   "language": "python",
   "name": "python3"
  },
  "language_info": {
   "codemirror_mode": {
    "name": "ipython",
    "version": 3
   },
   "file_extension": ".py",
   "mimetype": "text/x-python",
   "name": "python",
   "nbconvert_exporter": "python",
   "pygments_lexer": "ipython3",
   "version": "3.10.6"
  }
 },
 "nbformat": 4,
 "nbformat_minor": 5
}
